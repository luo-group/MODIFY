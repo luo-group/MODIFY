{
 "cells": [
  {
   "cell_type": "code",
   "execution_count": 2,
   "metadata": {},
   "outputs": [],
   "source": [
    "import pandas as pd\n",
    "import torch\n",
    "import logomaker\n",
    "import numpy as np\n",
    "import matplotlib.pyplot as plt\n",
    "import seaborn as sns\n",
    "\n",
    "import sys\n",
    "sys.path.append('../')\n",
    "from modify.utils import *\n",
    "\n",
    "import warnings\n",
    "warnings.filterwarnings('ignore')"
   ]
  },
  {
   "cell_type": "markdown",
   "metadata": {},
   "source": [
    "## Find the parameters for structure-based filtering"
   ]
  },
  {
   "cell_type": "code",
   "execution_count": 3,
   "metadata": {},
   "outputs": [
    {
     "data": {
      "text/html": [
       "<div>\n",
       "<style scoped>\n",
       "    .dataframe tbody tr th:only-of-type {\n",
       "        vertical-align: middle;\n",
       "    }\n",
       "\n",
       "    .dataframe tbody tr th {\n",
       "        vertical-align: top;\n",
       "    }\n",
       "\n",
       "    .dataframe thead th {\n",
       "        text-align: right;\n",
       "    }\n",
       "</style>\n",
       "<table border=\"1\" class=\"dataframe\">\n",
       "  <thead>\n",
       "    <tr style=\"text-align: right;\">\n",
       "      <th></th>\n",
       "      <th>mutant</th>\n",
       "      <th>name</th>\n",
       "      <th>esmfold</th>\n",
       "      <th>FoldX</th>\n",
       "    </tr>\n",
       "  </thead>\n",
       "  <tbody>\n",
       "    <tr>\n",
       "      <th>0</th>\n",
       "      <td>VA39A;DA40A;GA41A;VA54A</td>\n",
       "      <td>AAAA</td>\n",
       "      <td>84.333393</td>\n",
       "      <td>10.30980</td>\n",
       "    </tr>\n",
       "    <tr>\n",
       "      <th>1</th>\n",
       "      <td>VA39A;DA40A;GA41A;VA54C</td>\n",
       "      <td>AAAC</td>\n",
       "      <td>85.365536</td>\n",
       "      <td>9.95875</td>\n",
       "    </tr>\n",
       "    <tr>\n",
       "      <th>2</th>\n",
       "      <td>VA39A;DA40A;GA41A;VA54D</td>\n",
       "      <td>AAAD</td>\n",
       "      <td>87.307857</td>\n",
       "      <td>13.62200</td>\n",
       "    </tr>\n",
       "    <tr>\n",
       "      <th>3</th>\n",
       "      <td>VA39A;DA40A;GA41A;VA54E</td>\n",
       "      <td>AAAE</td>\n",
       "      <td>87.835714</td>\n",
       "      <td>11.91480</td>\n",
       "    </tr>\n",
       "    <tr>\n",
       "      <th>4</th>\n",
       "      <td>VA39A;DA40A;GA41A;VA54F</td>\n",
       "      <td>AAAF</td>\n",
       "      <td>83.268571</td>\n",
       "      <td>15.18530</td>\n",
       "    </tr>\n",
       "    <tr>\n",
       "      <th>...</th>\n",
       "      <td>...</td>\n",
       "      <td>...</td>\n",
       "      <td>...</td>\n",
       "      <td>...</td>\n",
       "    </tr>\n",
       "    <tr>\n",
       "      <th>159995</th>\n",
       "      <td>VA39Y;DA40Y;GA41Y;VA54S</td>\n",
       "      <td>YYYS</td>\n",
       "      <td>84.558571</td>\n",
       "      <td>62.52500</td>\n",
       "    </tr>\n",
       "    <tr>\n",
       "      <th>159996</th>\n",
       "      <td>VA39Y;DA40Y;GA41Y;VA54T</td>\n",
       "      <td>YYYT</td>\n",
       "      <td>84.521071</td>\n",
       "      <td>71.58080</td>\n",
       "    </tr>\n",
       "    <tr>\n",
       "      <th>159997</th>\n",
       "      <td>VA39Y;DA40Y;GA41Y;VA54V</td>\n",
       "      <td>YYYV</td>\n",
       "      <td>84.197143</td>\n",
       "      <td>68.21390</td>\n",
       "    </tr>\n",
       "    <tr>\n",
       "      <th>159998</th>\n",
       "      <td>VA39Y;DA40Y;GA41Y;VA54W</td>\n",
       "      <td>YYYW</td>\n",
       "      <td>82.789643</td>\n",
       "      <td>109.66700</td>\n",
       "    </tr>\n",
       "    <tr>\n",
       "      <th>159999</th>\n",
       "      <td>VA39Y;DA40Y;GA41Y;VA54Y</td>\n",
       "      <td>YYYY</td>\n",
       "      <td>83.617143</td>\n",
       "      <td>100.87700</td>\n",
       "    </tr>\n",
       "  </tbody>\n",
       "</table>\n",
       "<p>160000 rows × 4 columns</p>\n",
       "</div>"
      ],
      "text/plain": [
       "                         mutant  name    esmfold      FoldX\n",
       "0       VA39A;DA40A;GA41A;VA54A  AAAA  84.333393   10.30980\n",
       "1       VA39A;DA40A;GA41A;VA54C  AAAC  85.365536    9.95875\n",
       "2       VA39A;DA40A;GA41A;VA54D  AAAD  87.307857   13.62200\n",
       "3       VA39A;DA40A;GA41A;VA54E  AAAE  87.835714   11.91480\n",
       "4       VA39A;DA40A;GA41A;VA54F  AAAF  83.268571   15.18530\n",
       "...                         ...   ...        ...        ...\n",
       "159995  VA39Y;DA40Y;GA41Y;VA54S  YYYS  84.558571   62.52500\n",
       "159996  VA39Y;DA40Y;GA41Y;VA54T  YYYT  84.521071   71.58080\n",
       "159997  VA39Y;DA40Y;GA41Y;VA54V  YYYV  84.197143   68.21390\n",
       "159998  VA39Y;DA40Y;GA41Y;VA54W  YYYW  82.789643  109.66700\n",
       "159999  VA39Y;DA40Y;GA41Y;VA54Y  YYYY  83.617143  100.87700\n",
       "\n",
       "[160000 rows x 4 columns]"
      ]
     },
     "execution_count": 3,
     "metadata": {},
     "output_type": "execute_result"
    }
   ],
   "source": [
    "df = pd.read_csv('../data/GB1/raw/GB1_structure.csv', index_col=0)\n",
    "df"
   ]
  },
  {
   "cell_type": "code",
   "execution_count": 4,
   "metadata": {},
   "outputs": [
    {
     "name": "stdout",
     "output_type": "stream",
     "text": [
      "The median of ESMFold pLDDT: 82.03732142857143\n",
      "The median of FoldX ddG: 24.6212\n"
     ]
    }
   ],
   "source": [
    "print('The median of ESMFold pLDDT:', df.esmfold.median())\n",
    "print('The median of FoldX ddG:', df.FoldX.median())"
   ]
  },
  {
   "cell_type": "code",
   "execution_count": 5,
   "metadata": {},
   "outputs": [
    {
     "data": {
      "text/html": [
       "<div>\n",
       "<style scoped>\n",
       "    .dataframe tbody tr th:only-of-type {\n",
       "        vertical-align: middle;\n",
       "    }\n",
       "\n",
       "    .dataframe tbody tr th {\n",
       "        vertical-align: top;\n",
       "    }\n",
       "\n",
       "    .dataframe thead th {\n",
       "        text-align: right;\n",
       "    }\n",
       "</style>\n",
       "<table border=\"1\" class=\"dataframe\">\n",
       "  <thead>\n",
       "    <tr style=\"text-align: right;\">\n",
       "      <th></th>\n",
       "      <th>mutant</th>\n",
       "      <th>name</th>\n",
       "      <th>esmfold</th>\n",
       "      <th>FoldX</th>\n",
       "    </tr>\n",
       "  </thead>\n",
       "  <tbody>\n",
       "    <tr>\n",
       "      <th>136917</th>\n",
       "      <td>VA39V;DA40D;GA41G;VA54V</td>\n",
       "      <td>VDGV</td>\n",
       "      <td>89.36375</td>\n",
       "      <td>-0.025797</td>\n",
       "    </tr>\n",
       "  </tbody>\n",
       "</table>\n",
       "</div>"
      ],
      "text/plain": [
       "                         mutant  name   esmfold     FoldX\n",
       "136917  VA39V;DA40D;GA41G;VA54V  VDGV  89.36375 -0.025797"
      ]
     },
     "execution_count": 5,
     "metadata": {},
     "output_type": "execute_result"
    }
   ],
   "source": [
    "df[df.name=='VDGV']"
   ]
  },
  {
   "cell_type": "code",
   "execution_count": 6,
   "metadata": {},
   "outputs": [
    {
     "data": {
      "text/plain": [
       "89.36375000000001"
      ]
     },
     "execution_count": 6,
     "metadata": {},
     "output_type": "execute_result"
    }
   ],
   "source": [
    "# pLDDT calculation for an example file generated by ESMFold\n",
    "import biotite.structure.io as bsio\n",
    "\n",
    "def cal_plddt(struct):\n",
    "    plddt, cnt = 0, 0\n",
    "    for s in struct:\n",
    "        if s.atom_name=='CA':\n",
    "            plddt += s.b_factor\n",
    "            cnt +=1\n",
    "    return plddt/cnt\n",
    "\n",
    "struct = bsio.load_structure(f'../data/GB1/raw/VDGV_esmfold.pdb', extra_fields=[\"b_factor\"])\n",
    "plddt = cal_plddt(struct)\n",
    "plddt"
   ]
  }
 ],
 "metadata": {
  "kernelspec": {
   "display_name": "modify",
   "language": "python",
   "name": "python3"
  },
  "language_info": {
   "codemirror_mode": {
    "name": "ipython",
    "version": 3
   },
   "file_extension": ".py",
   "mimetype": "text/x-python",
   "name": "python",
   "nbconvert_exporter": "python",
   "pygments_lexer": "ipython3",
   "version": "3.9.12"
  },
  "orig_nbformat": 4
 },
 "nbformat": 4,
 "nbformat_minor": 2
}
